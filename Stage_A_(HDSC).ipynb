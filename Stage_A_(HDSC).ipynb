{
  "nbformat": 4,
  "nbformat_minor": 0,
  "metadata": {
    "colab": {
      "provenance": []
    },
    "kernelspec": {
      "name": "python3",
      "display_name": "Python 3"
    },
    "language_info": {
      "name": "python"
    }
  },
  "cells": [
    {
      "cell_type": "markdown",
      "source": [
        "![hamoye.png](data:image/png;base64,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)"
      ],
      "metadata": {
        "id": "uWvKr4NsKc62"
      }
    },
    {
      "cell_type": "markdown",
      "source": [
        "Using the dataset provided coutesy of FAO, the following questions were answered\n",
        "\n",
        "- Total number of unique countries\n",
        "- Mean and Standard deviation for the year 2017\n",
        "- Areas with the highest sum in 2017\n",
        "- The total number of wine produced in 2015 and 2018\n",
        "- Missing values in the 2014 column and the percentage of the missing values in 2014 to the percentage of the total missing values in the entire dataset\n",
        "- Total protein supply in Madagascar in 2015\n",
        "- Sum of elements in 2017\n",
        "- Year with the highest stock variation\n",
        "- Year with the least correlation with Element Code"
      ],
      "metadata": {
        "id": "VcsBeVd8ISDi"
      }
    },
    {
      "cell_type": "code",
      "source": [
        "from google.colab import drive\n",
        "drive.mount('/content/drive')"
      ],
      "metadata": {
        "colab": {
          "base_uri": "https://localhost:8080/"
        },
        "id": "m8M4u1-LGtJ7",
        "outputId": "0534687f-be80-4c11-b463-e647333bc748"
      },
      "execution_count": 2,
      "outputs": [
        {
          "output_type": "stream",
          "name": "stdout",
          "text": [
            "Mounted at /content/drive\n"
          ]
        }
      ]
    },
    {
      "cell_type": "code",
      "source": [
        "path = '/content/drive/MyDrive/FoodBalanceSheets_E_Africa_NOFLAG.csv'"
      ],
      "metadata": {
        "id": "TTD6aTx2Gtdl"
      },
      "execution_count": 3,
      "outputs": []
    },
    {
      "cell_type": "code",
      "source": [
        "import pandas as pd\n",
        "import numpy as np"
      ],
      "metadata": {
        "id": "VqXylfuGGtkA"
      },
      "execution_count": 4,
      "outputs": []
    },
    {
      "cell_type": "code",
      "source": [
        "data = pd.read_csv(path, encoding = 'latin-1')\n",
        "data.head()"
      ],
      "metadata": {
        "id": "QSFmjioVGtoU",
        "colab": {
          "base_uri": "https://localhost:8080/",
          "height": 206
        },
        "outputId": "5f0c5fd1-c268-479b-c71e-6a2417d2c257"
      },
      "execution_count": 5,
      "outputs": [
        {
          "output_type": "execute_result",
          "data": {
            "text/plain": [
              "   Area Code     Area  Item Code         Item  Element Code  \\\n",
              "0          4  Algeria       2501   Population           511   \n",
              "1          4  Algeria       2501   Population          5301   \n",
              "2          4  Algeria       2901  Grand Total           664   \n",
              "3          4  Algeria       2901  Grand Total           674   \n",
              "4          4  Algeria       2901  Grand Total           684   \n",
              "\n",
              "                                  Element             Unit     Y2014  \\\n",
              "0           Total Population - Both sexes     1000 persons  38924.00   \n",
              "1                Domestic supply quantity      1000 tonnes      0.00   \n",
              "2           Food supply (kcal/capita/day)  kcal/capita/day   3377.00   \n",
              "3  Protein supply quantity (g/capita/day)     g/capita/day     94.90   \n",
              "4      Fat supply quantity (g/capita/day)     g/capita/day     80.06   \n",
              "\n",
              "      Y2015     Y2016     Y2017     Y2018  \n",
              "0  39728.00  40551.00  41389.00  42228.00  \n",
              "1      0.00      0.00      0.00      0.00  \n",
              "2   3379.00   3372.00   3341.00   3322.00  \n",
              "3     94.35     94.72     92.82     91.83  \n",
              "4     79.36     77.40     80.19     77.28  "
            ],
            "text/html": [
              "\n",
              "  <div id=\"df-eee66046-7e4d-46a0-b6eb-ca19ea243d3b\" class=\"colab-df-container\">\n",
              "    <div>\n",
              "<style scoped>\n",
              "    .dataframe tbody tr th:only-of-type {\n",
              "        vertical-align: middle;\n",
              "    }\n",
              "\n",
              "    .dataframe tbody tr th {\n",
              "        vertical-align: top;\n",
              "    }\n",
              "\n",
              "    .dataframe thead th {\n",
              "        text-align: right;\n",
              "    }\n",
              "</style>\n",
              "<table border=\"1\" class=\"dataframe\">\n",
              "  <thead>\n",
              "    <tr style=\"text-align: right;\">\n",
              "      <th></th>\n",
              "      <th>Area Code</th>\n",
              "      <th>Area</th>\n",
              "      <th>Item Code</th>\n",
              "      <th>Item</th>\n",
              "      <th>Element Code</th>\n",
              "      <th>Element</th>\n",
              "      <th>Unit</th>\n",
              "      <th>Y2014</th>\n",
              "      <th>Y2015</th>\n",
              "      <th>Y2016</th>\n",
              "      <th>Y2017</th>\n",
              "      <th>Y2018</th>\n",
              "    </tr>\n",
              "  </thead>\n",
              "  <tbody>\n",
              "    <tr>\n",
              "      <th>0</th>\n",
              "      <td>4</td>\n",
              "      <td>Algeria</td>\n",
              "      <td>2501</td>\n",
              "      <td>Population</td>\n",
              "      <td>511</td>\n",
              "      <td>Total Population - Both sexes</td>\n",
              "      <td>1000 persons</td>\n",
              "      <td>38924.00</td>\n",
              "      <td>39728.00</td>\n",
              "      <td>40551.00</td>\n",
              "      <td>41389.00</td>\n",
              "      <td>42228.00</td>\n",
              "    </tr>\n",
              "    <tr>\n",
              "      <th>1</th>\n",
              "      <td>4</td>\n",
              "      <td>Algeria</td>\n",
              "      <td>2501</td>\n",
              "      <td>Population</td>\n",
              "      <td>5301</td>\n",
              "      <td>Domestic supply quantity</td>\n",
              "      <td>1000 tonnes</td>\n",
              "      <td>0.00</td>\n",
              "      <td>0.00</td>\n",
              "      <td>0.00</td>\n",
              "      <td>0.00</td>\n",
              "      <td>0.00</td>\n",
              "    </tr>\n",
              "    <tr>\n",
              "      <th>2</th>\n",
              "      <td>4</td>\n",
              "      <td>Algeria</td>\n",
              "      <td>2901</td>\n",
              "      <td>Grand Total</td>\n",
              "      <td>664</td>\n",
              "      <td>Food supply (kcal/capita/day)</td>\n",
              "      <td>kcal/capita/day</td>\n",
              "      <td>3377.00</td>\n",
              "      <td>3379.00</td>\n",
              "      <td>3372.00</td>\n",
              "      <td>3341.00</td>\n",
              "      <td>3322.00</td>\n",
              "    </tr>\n",
              "    <tr>\n",
              "      <th>3</th>\n",
              "      <td>4</td>\n",
              "      <td>Algeria</td>\n",
              "      <td>2901</td>\n",
              "      <td>Grand Total</td>\n",
              "      <td>674</td>\n",
              "      <td>Protein supply quantity (g/capita/day)</td>\n",
              "      <td>g/capita/day</td>\n",
              "      <td>94.90</td>\n",
              "      <td>94.35</td>\n",
              "      <td>94.72</td>\n",
              "      <td>92.82</td>\n",
              "      <td>91.83</td>\n",
              "    </tr>\n",
              "    <tr>\n",
              "      <th>4</th>\n",
              "      <td>4</td>\n",
              "      <td>Algeria</td>\n",
              "      <td>2901</td>\n",
              "      <td>Grand Total</td>\n",
              "      <td>684</td>\n",
              "      <td>Fat supply quantity (g/capita/day)</td>\n",
              "      <td>g/capita/day</td>\n",
              "      <td>80.06</td>\n",
              "      <td>79.36</td>\n",
              "      <td>77.40</td>\n",
              "      <td>80.19</td>\n",
              "      <td>77.28</td>\n",
              "    </tr>\n",
              "  </tbody>\n",
              "</table>\n",
              "</div>\n",
              "    <div class=\"colab-df-buttons\">\n",
              "\n",
              "  <div class=\"colab-df-container\">\n",
              "    <button class=\"colab-df-convert\" onclick=\"convertToInteractive('df-eee66046-7e4d-46a0-b6eb-ca19ea243d3b')\"\n",
              "            title=\"Convert this dataframe to an interactive table.\"\n",
              "            style=\"display:none;\">\n",
              "\n",
              "  <svg xmlns=\"http://www.w3.org/2000/svg\" height=\"24px\" viewBox=\"0 -960 960 960\">\n",
              "    <path d=\"M120-120v-720h720v720H120Zm60-500h600v-160H180v160Zm220 220h160v-160H400v160Zm0 220h160v-160H400v160ZM180-400h160v-160H180v160Zm440 0h160v-160H620v160ZM180-180h160v-160H180v160Zm440 0h160v-160H620v160Z\"/>\n",
              "  </svg>\n",
              "    </button>\n",
              "\n",
              "  <style>\n",
              "    .colab-df-container {\n",
              "      display:flex;\n",
              "      gap: 12px;\n",
              "    }\n",
              "\n",
              "    .colab-df-convert {\n",
              "      background-color: #E8F0FE;\n",
              "      border: none;\n",
              "      border-radius: 50%;\n",
              "      cursor: pointer;\n",
              "      display: none;\n",
              "      fill: #1967D2;\n",
              "      height: 32px;\n",
              "      padding: 0 0 0 0;\n",
              "      width: 32px;\n",
              "    }\n",
              "\n",
              "    .colab-df-convert:hover {\n",
              "      background-color: #E2EBFA;\n",
              "      box-shadow: 0px 1px 2px rgba(60, 64, 67, 0.3), 0px 1px 3px 1px rgba(60, 64, 67, 0.15);\n",
              "      fill: #174EA6;\n",
              "    }\n",
              "\n",
              "    .colab-df-buttons div {\n",
              "      margin-bottom: 4px;\n",
              "    }\n",
              "\n",
              "    [theme=dark] .colab-df-convert {\n",
              "      background-color: #3B4455;\n",
              "      fill: #D2E3FC;\n",
              "    }\n",
              "\n",
              "    [theme=dark] .colab-df-convert:hover {\n",
              "      background-color: #434B5C;\n",
              "      box-shadow: 0px 1px 3px 1px rgba(0, 0, 0, 0.15);\n",
              "      filter: drop-shadow(0px 1px 2px rgba(0, 0, 0, 0.3));\n",
              "      fill: #FFFFFF;\n",
              "    }\n",
              "  </style>\n",
              "\n",
              "    <script>\n",
              "      const buttonEl =\n",
              "        document.querySelector('#df-eee66046-7e4d-46a0-b6eb-ca19ea243d3b button.colab-df-convert');\n",
              "      buttonEl.style.display =\n",
              "        google.colab.kernel.accessAllowed ? 'block' : 'none';\n",
              "\n",
              "      async function convertToInteractive(key) {\n",
              "        const element = document.querySelector('#df-eee66046-7e4d-46a0-b6eb-ca19ea243d3b');\n",
              "        const dataTable =\n",
              "          await google.colab.kernel.invokeFunction('convertToInteractive',\n",
              "                                                    [key], {});\n",
              "        if (!dataTable) return;\n",
              "\n",
              "        const docLinkHtml = 'Like what you see? Visit the ' +\n",
              "          '<a target=\"_blank\" href=https://colab.research.google.com/notebooks/data_table.ipynb>data table notebook</a>'\n",
              "          + ' to learn more about interactive tables.';\n",
              "        element.innerHTML = '';\n",
              "        dataTable['output_type'] = 'display_data';\n",
              "        await google.colab.output.renderOutput(dataTable, element);\n",
              "        const docLink = document.createElement('div');\n",
              "        docLink.innerHTML = docLinkHtml;\n",
              "        element.appendChild(docLink);\n",
              "      }\n",
              "    </script>\n",
              "  </div>\n",
              "\n",
              "\n",
              "<div id=\"df-c0543090-5ffd-4ee8-aed7-5165aa6a9c3c\">\n",
              "  <button class=\"colab-df-quickchart\" onclick=\"quickchart('df-c0543090-5ffd-4ee8-aed7-5165aa6a9c3c')\"\n",
              "            title=\"Suggest charts.\"\n",
              "            style=\"display:none;\">\n",
              "\n",
              "<svg xmlns=\"http://www.w3.org/2000/svg\" height=\"24px\"viewBox=\"0 0 24 24\"\n",
              "     width=\"24px\">\n",
              "    <g>\n",
              "        <path d=\"M19 3H5c-1.1 0-2 .9-2 2v14c0 1.1.9 2 2 2h14c1.1 0 2-.9 2-2V5c0-1.1-.9-2-2-2zM9 17H7v-7h2v7zm4 0h-2V7h2v10zm4 0h-2v-4h2v4z\"/>\n",
              "    </g>\n",
              "</svg>\n",
              "  </button>\n",
              "\n",
              "<style>\n",
              "  .colab-df-quickchart {\n",
              "      --bg-color: #E8F0FE;\n",
              "      --fill-color: #1967D2;\n",
              "      --hover-bg-color: #E2EBFA;\n",
              "      --hover-fill-color: #174EA6;\n",
              "      --disabled-fill-color: #AAA;\n",
              "      --disabled-bg-color: #DDD;\n",
              "  }\n",
              "\n",
              "  [theme=dark] .colab-df-quickchart {\n",
              "      --bg-color: #3B4455;\n",
              "      --fill-color: #D2E3FC;\n",
              "      --hover-bg-color: #434B5C;\n",
              "      --hover-fill-color: #FFFFFF;\n",
              "      --disabled-bg-color: #3B4455;\n",
              "      --disabled-fill-color: #666;\n",
              "  }\n",
              "\n",
              "  .colab-df-quickchart {\n",
              "    background-color: var(--bg-color);\n",
              "    border: none;\n",
              "    border-radius: 50%;\n",
              "    cursor: pointer;\n",
              "    display: none;\n",
              "    fill: var(--fill-color);\n",
              "    height: 32px;\n",
              "    padding: 0;\n",
              "    width: 32px;\n",
              "  }\n",
              "\n",
              "  .colab-df-quickchart:hover {\n",
              "    background-color: var(--hover-bg-color);\n",
              "    box-shadow: 0 1px 2px rgba(60, 64, 67, 0.3), 0 1px 3px 1px rgba(60, 64, 67, 0.15);\n",
              "    fill: var(--button-hover-fill-color);\n",
              "  }\n",
              "\n",
              "  .colab-df-quickchart-complete:disabled,\n",
              "  .colab-df-quickchart-complete:disabled:hover {\n",
              "    background-color: var(--disabled-bg-color);\n",
              "    fill: var(--disabled-fill-color);\n",
              "    box-shadow: none;\n",
              "  }\n",
              "\n",
              "  .colab-df-spinner {\n",
              "    border: 2px solid var(--fill-color);\n",
              "    border-color: transparent;\n",
              "    border-bottom-color: var(--fill-color);\n",
              "    animation:\n",
              "      spin 1s steps(1) infinite;\n",
              "  }\n",
              "\n",
              "  @keyframes spin {\n",
              "    0% {\n",
              "      border-color: transparent;\n",
              "      border-bottom-color: var(--fill-color);\n",
              "      border-left-color: var(--fill-color);\n",
              "    }\n",
              "    20% {\n",
              "      border-color: transparent;\n",
              "      border-left-color: var(--fill-color);\n",
              "      border-top-color: var(--fill-color);\n",
              "    }\n",
              "    30% {\n",
              "      border-color: transparent;\n",
              "      border-left-color: var(--fill-color);\n",
              "      border-top-color: var(--fill-color);\n",
              "      border-right-color: var(--fill-color);\n",
              "    }\n",
              "    40% {\n",
              "      border-color: transparent;\n",
              "      border-right-color: var(--fill-color);\n",
              "      border-top-color: var(--fill-color);\n",
              "    }\n",
              "    60% {\n",
              "      border-color: transparent;\n",
              "      border-right-color: var(--fill-color);\n",
              "    }\n",
              "    80% {\n",
              "      border-color: transparent;\n",
              "      border-right-color: var(--fill-color);\n",
              "      border-bottom-color: var(--fill-color);\n",
              "    }\n",
              "    90% {\n",
              "      border-color: transparent;\n",
              "      border-bottom-color: var(--fill-color);\n",
              "    }\n",
              "  }\n",
              "</style>\n",
              "\n",
              "  <script>\n",
              "    async function quickchart(key) {\n",
              "      const quickchartButtonEl =\n",
              "        document.querySelector('#' + key + ' button');\n",
              "      quickchartButtonEl.disabled = true;  // To prevent multiple clicks.\n",
              "      quickchartButtonEl.classList.add('colab-df-spinner');\n",
              "      try {\n",
              "        const charts = await google.colab.kernel.invokeFunction(\n",
              "            'suggestCharts', [key], {});\n",
              "      } catch (error) {\n",
              "        console.error('Error during call to suggestCharts:', error);\n",
              "      }\n",
              "      quickchartButtonEl.classList.remove('colab-df-spinner');\n",
              "      quickchartButtonEl.classList.add('colab-df-quickchart-complete');\n",
              "    }\n",
              "    (() => {\n",
              "      let quickchartButtonEl =\n",
              "        document.querySelector('#df-c0543090-5ffd-4ee8-aed7-5165aa6a9c3c button');\n",
              "      quickchartButtonEl.style.display =\n",
              "        google.colab.kernel.accessAllowed ? 'block' : 'none';\n",
              "    })();\n",
              "  </script>\n",
              "</div>\n",
              "    </div>\n",
              "  </div>\n"
            ]
          },
          "metadata": {},
          "execution_count": 5
        }
      ]
    },
    {
      "cell_type": "code",
      "source": [
        "data.info()"
      ],
      "metadata": {
        "id": "gUvLUh1VGtr8",
        "colab": {
          "base_uri": "https://localhost:8080/"
        },
        "outputId": "64742c4d-5e8b-44b7-a742-54c4d3caf805"
      },
      "execution_count": 6,
      "outputs": [
        {
          "output_type": "stream",
          "name": "stdout",
          "text": [
            "<class 'pandas.core.frame.DataFrame'>\n",
            "RangeIndex: 60943 entries, 0 to 60942\n",
            "Data columns (total 12 columns):\n",
            " #   Column        Non-Null Count  Dtype  \n",
            "---  ------        --------------  -----  \n",
            " 0   Area Code     60943 non-null  int64  \n",
            " 1   Area          60943 non-null  object \n",
            " 2   Item Code     60943 non-null  int64  \n",
            " 3   Item          60943 non-null  object \n",
            " 4   Element Code  60943 non-null  int64  \n",
            " 5   Element       60943 non-null  object \n",
            " 6   Unit          60943 non-null  object \n",
            " 7   Y2014         59354 non-null  float64\n",
            " 8   Y2015         59395 non-null  float64\n",
            " 9   Y2016         59408 non-null  float64\n",
            " 10  Y2017         59437 non-null  float64\n",
            " 11  Y2018         59507 non-null  float64\n",
            "dtypes: float64(5), int64(3), object(4)\n",
            "memory usage: 5.6+ MB\n"
          ]
        }
      ]
    },
    {
      "cell_type": "code",
      "source": [
        "data.columns"
      ],
      "metadata": {
        "id": "j_XhejHRGt0H",
        "colab": {
          "base_uri": "https://localhost:8080/"
        },
        "outputId": "5569ee35-f3b0-4290-c319-e4e7c955fa28"
      },
      "execution_count": 7,
      "outputs": [
        {
          "output_type": "execute_result",
          "data": {
            "text/plain": [
              "Index(['Area Code', 'Area', 'Item Code', 'Item', 'Element Code', 'Element',\n",
              "       'Unit', 'Y2014', 'Y2015', 'Y2016', 'Y2017', 'Y2018'],\n",
              "      dtype='object')"
            ]
          },
          "metadata": {},
          "execution_count": 7
        }
      ]
    },
    {
      "cell_type": "code",
      "source": [
        "data.shape"
      ],
      "metadata": {
        "id": "55i27XvtGt4A",
        "colab": {
          "base_uri": "https://localhost:8080/"
        },
        "outputId": "0cb42677-fd66-4162-b6aa-0f442356be9f"
      },
      "execution_count": 8,
      "outputs": [
        {
          "output_type": "execute_result",
          "data": {
            "text/plain": [
              "(60943, 12)"
            ]
          },
          "metadata": {},
          "execution_count": 8
        }
      ]
    },
    {
      "cell_type": "code",
      "source": [
        "# Total number of unique countries\n",
        "data['Area'].nunique()"
      ],
      "metadata": {
        "id": "eam4h42iGt8W",
        "colab": {
          "base_uri": "https://localhost:8080/"
        },
        "outputId": "3b80b149-4982-43b6-f211-6cc528b8a36a"
      },
      "execution_count": 8,
      "outputs": [
        {
          "output_type": "execute_result",
          "data": {
            "text/plain": [
              "49"
            ]
          },
          "metadata": {},
          "execution_count": 8
        }
      ]
    },
    {
      "cell_type": "code",
      "source": [
        "# mean and SD for 2017\n",
        "mean_17 = data['Y2017'].mean()\n",
        "mean_17\n",
        "\n",
        "sd_17 = data['Y2017'].std()\n",
        "sd_17\n",
        "\n",
        "print (f'The mean of values across dataset for 2017 is {mean_17}')\n",
        "print (f'The Standard deviation of values across dataset for 2017 is {sd_17}')"
      ],
      "metadata": {
        "id": "zvi6CdU1GsRl",
        "colab": {
          "base_uri": "https://localhost:8080/"
        },
        "outputId": "570778eb-8922-4df7-f7b7-4d9370ea497e"
      },
      "execution_count": 9,
      "outputs": [
        {
          "output_type": "stream",
          "name": "stdout",
          "text": [
            "The mean of values across dataset for 2017 is 140.9177648602722\n",
            "The Standard deviation of values across dataset for 2017 is 1671.8623590567995\n"
          ]
        }
      ]
    },
    {
      "cell_type": "code",
      "source": [
        "data1 = data[['Y2017','Area']]\n",
        "data1.head()"
      ],
      "metadata": {
        "colab": {
          "base_uri": "https://localhost:8080/",
          "height": 206
        },
        "id": "9N2P25hMG34W",
        "outputId": "ee9c96d9-dcad-4376-b47a-c89f54fa2d2d"
      },
      "execution_count": 11,
      "outputs": [
        {
          "output_type": "execute_result",
          "data": {
            "text/plain": [
              "      Y2017     Area\n",
              "0  41389.00  Algeria\n",
              "1      0.00  Algeria\n",
              "2   3341.00  Algeria\n",
              "3     92.82  Algeria\n",
              "4     80.19  Algeria"
            ],
            "text/html": [
              "\n",
              "  <div id=\"df-a8f0f0ef-a5b4-4d4f-b881-1de515903d4a\" class=\"colab-df-container\">\n",
              "    <div>\n",
              "<style scoped>\n",
              "    .dataframe tbody tr th:only-of-type {\n",
              "        vertical-align: middle;\n",
              "    }\n",
              "\n",
              "    .dataframe tbody tr th {\n",
              "        vertical-align: top;\n",
              "    }\n",
              "\n",
              "    .dataframe thead th {\n",
              "        text-align: right;\n",
              "    }\n",
              "</style>\n",
              "<table border=\"1\" class=\"dataframe\">\n",
              "  <thead>\n",
              "    <tr style=\"text-align: right;\">\n",
              "      <th></th>\n",
              "      <th>Y2017</th>\n",
              "      <th>Area</th>\n",
              "    </tr>\n",
              "  </thead>\n",
              "  <tbody>\n",
              "    <tr>\n",
              "      <th>0</th>\n",
              "      <td>41389.00</td>\n",
              "      <td>Algeria</td>\n",
              "    </tr>\n",
              "    <tr>\n",
              "      <th>1</th>\n",
              "      <td>0.00</td>\n",
              "      <td>Algeria</td>\n",
              "    </tr>\n",
              "    <tr>\n",
              "      <th>2</th>\n",
              "      <td>3341.00</td>\n",
              "      <td>Algeria</td>\n",
              "    </tr>\n",
              "    <tr>\n",
              "      <th>3</th>\n",
              "      <td>92.82</td>\n",
              "      <td>Algeria</td>\n",
              "    </tr>\n",
              "    <tr>\n",
              "      <th>4</th>\n",
              "      <td>80.19</td>\n",
              "      <td>Algeria</td>\n",
              "    </tr>\n",
              "  </tbody>\n",
              "</table>\n",
              "</div>\n",
              "    <div class=\"colab-df-buttons\">\n",
              "\n",
              "  <div class=\"colab-df-container\">\n",
              "    <button class=\"colab-df-convert\" onclick=\"convertToInteractive('df-a8f0f0ef-a5b4-4d4f-b881-1de515903d4a')\"\n",
              "            title=\"Convert this dataframe to an interactive table.\"\n",
              "            style=\"display:none;\">\n",
              "\n",
              "  <svg xmlns=\"http://www.w3.org/2000/svg\" height=\"24px\" viewBox=\"0 -960 960 960\">\n",
              "    <path d=\"M120-120v-720h720v720H120Zm60-500h600v-160H180v160Zm220 220h160v-160H400v160Zm0 220h160v-160H400v160ZM180-400h160v-160H180v160Zm440 0h160v-160H620v160ZM180-180h160v-160H180v160Zm440 0h160v-160H620v160Z\"/>\n",
              "  </svg>\n",
              "    </button>\n",
              "\n",
              "  <style>\n",
              "    .colab-df-container {\n",
              "      display:flex;\n",
              "      gap: 12px;\n",
              "    }\n",
              "\n",
              "    .colab-df-convert {\n",
              "      background-color: #E8F0FE;\n",
              "      border: none;\n",
              "      border-radius: 50%;\n",
              "      cursor: pointer;\n",
              "      display: none;\n",
              "      fill: #1967D2;\n",
              "      height: 32px;\n",
              "      padding: 0 0 0 0;\n",
              "      width: 32px;\n",
              "    }\n",
              "\n",
              "    .colab-df-convert:hover {\n",
              "      background-color: #E2EBFA;\n",
              "      box-shadow: 0px 1px 2px rgba(60, 64, 67, 0.3), 0px 1px 3px 1px rgba(60, 64, 67, 0.15);\n",
              "      fill: #174EA6;\n",
              "    }\n",
              "\n",
              "    .colab-df-buttons div {\n",
              "      margin-bottom: 4px;\n",
              "    }\n",
              "\n",
              "    [theme=dark] .colab-df-convert {\n",
              "      background-color: #3B4455;\n",
              "      fill: #D2E3FC;\n",
              "    }\n",
              "\n",
              "    [theme=dark] .colab-df-convert:hover {\n",
              "      background-color: #434B5C;\n",
              "      box-shadow: 0px 1px 3px 1px rgba(0, 0, 0, 0.15);\n",
              "      filter: drop-shadow(0px 1px 2px rgba(0, 0, 0, 0.3));\n",
              "      fill: #FFFFFF;\n",
              "    }\n",
              "  </style>\n",
              "\n",
              "    <script>\n",
              "      const buttonEl =\n",
              "        document.querySelector('#df-a8f0f0ef-a5b4-4d4f-b881-1de515903d4a button.colab-df-convert');\n",
              "      buttonEl.style.display =\n",
              "        google.colab.kernel.accessAllowed ? 'block' : 'none';\n",
              "\n",
              "      async function convertToInteractive(key) {\n",
              "        const element = document.querySelector('#df-a8f0f0ef-a5b4-4d4f-b881-1de515903d4a');\n",
              "        const dataTable =\n",
              "          await google.colab.kernel.invokeFunction('convertToInteractive',\n",
              "                                                    [key], {});\n",
              "        if (!dataTable) return;\n",
              "\n",
              "        const docLinkHtml = 'Like what you see? Visit the ' +\n",
              "          '<a target=\"_blank\" href=https://colab.research.google.com/notebooks/data_table.ipynb>data table notebook</a>'\n",
              "          + ' to learn more about interactive tables.';\n",
              "        element.innerHTML = '';\n",
              "        dataTable['output_type'] = 'display_data';\n",
              "        await google.colab.output.renderOutput(dataTable, element);\n",
              "        const docLink = document.createElement('div');\n",
              "        docLink.innerHTML = docLinkHtml;\n",
              "        element.appendChild(docLink);\n",
              "      }\n",
              "    </script>\n",
              "  </div>\n",
              "\n",
              "\n",
              "<div id=\"df-0b130c5f-ed52-4849-a7c5-53ccf65b6797\">\n",
              "  <button class=\"colab-df-quickchart\" onclick=\"quickchart('df-0b130c5f-ed52-4849-a7c5-53ccf65b6797')\"\n",
              "            title=\"Suggest charts.\"\n",
              "            style=\"display:none;\">\n",
              "\n",
              "<svg xmlns=\"http://www.w3.org/2000/svg\" height=\"24px\"viewBox=\"0 0 24 24\"\n",
              "     width=\"24px\">\n",
              "    <g>\n",
              "        <path d=\"M19 3H5c-1.1 0-2 .9-2 2v14c0 1.1.9 2 2 2h14c1.1 0 2-.9 2-2V5c0-1.1-.9-2-2-2zM9 17H7v-7h2v7zm4 0h-2V7h2v10zm4 0h-2v-4h2v4z\"/>\n",
              "    </g>\n",
              "</svg>\n",
              "  </button>\n",
              "\n",
              "<style>\n",
              "  .colab-df-quickchart {\n",
              "      --bg-color: #E8F0FE;\n",
              "      --fill-color: #1967D2;\n",
              "      --hover-bg-color: #E2EBFA;\n",
              "      --hover-fill-color: #174EA6;\n",
              "      --disabled-fill-color: #AAA;\n",
              "      --disabled-bg-color: #DDD;\n",
              "  }\n",
              "\n",
              "  [theme=dark] .colab-df-quickchart {\n",
              "      --bg-color: #3B4455;\n",
              "      --fill-color: #D2E3FC;\n",
              "      --hover-bg-color: #434B5C;\n",
              "      --hover-fill-color: #FFFFFF;\n",
              "      --disabled-bg-color: #3B4455;\n",
              "      --disabled-fill-color: #666;\n",
              "  }\n",
              "\n",
              "  .colab-df-quickchart {\n",
              "    background-color: var(--bg-color);\n",
              "    border: none;\n",
              "    border-radius: 50%;\n",
              "    cursor: pointer;\n",
              "    display: none;\n",
              "    fill: var(--fill-color);\n",
              "    height: 32px;\n",
              "    padding: 0;\n",
              "    width: 32px;\n",
              "  }\n",
              "\n",
              "  .colab-df-quickchart:hover {\n",
              "    background-color: var(--hover-bg-color);\n",
              "    box-shadow: 0 1px 2px rgba(60, 64, 67, 0.3), 0 1px 3px 1px rgba(60, 64, 67, 0.15);\n",
              "    fill: var(--button-hover-fill-color);\n",
              "  }\n",
              "\n",
              "  .colab-df-quickchart-complete:disabled,\n",
              "  .colab-df-quickchart-complete:disabled:hover {\n",
              "    background-color: var(--disabled-bg-color);\n",
              "    fill: var(--disabled-fill-color);\n",
              "    box-shadow: none;\n",
              "  }\n",
              "\n",
              "  .colab-df-spinner {\n",
              "    border: 2px solid var(--fill-color);\n",
              "    border-color: transparent;\n",
              "    border-bottom-color: var(--fill-color);\n",
              "    animation:\n",
              "      spin 1s steps(1) infinite;\n",
              "  }\n",
              "\n",
              "  @keyframes spin {\n",
              "    0% {\n",
              "      border-color: transparent;\n",
              "      border-bottom-color: var(--fill-color);\n",
              "      border-left-color: var(--fill-color);\n",
              "    }\n",
              "    20% {\n",
              "      border-color: transparent;\n",
              "      border-left-color: var(--fill-color);\n",
              "      border-top-color: var(--fill-color);\n",
              "    }\n",
              "    30% {\n",
              "      border-color: transparent;\n",
              "      border-left-color: var(--fill-color);\n",
              "      border-top-color: var(--fill-color);\n",
              "      border-right-color: var(--fill-color);\n",
              "    }\n",
              "    40% {\n",
              "      border-color: transparent;\n",
              "      border-right-color: var(--fill-color);\n",
              "      border-top-color: var(--fill-color);\n",
              "    }\n",
              "    60% {\n",
              "      border-color: transparent;\n",
              "      border-right-color: var(--fill-color);\n",
              "    }\n",
              "    80% {\n",
              "      border-color: transparent;\n",
              "      border-right-color: var(--fill-color);\n",
              "      border-bottom-color: var(--fill-color);\n",
              "    }\n",
              "    90% {\n",
              "      border-color: transparent;\n",
              "      border-bottom-color: var(--fill-color);\n",
              "    }\n",
              "  }\n",
              "</style>\n",
              "\n",
              "  <script>\n",
              "    async function quickchart(key) {\n",
              "      const quickchartButtonEl =\n",
              "        document.querySelector('#' + key + ' button');\n",
              "      quickchartButtonEl.disabled = true;  // To prevent multiple clicks.\n",
              "      quickchartButtonEl.classList.add('colab-df-spinner');\n",
              "      try {\n",
              "        const charts = await google.colab.kernel.invokeFunction(\n",
              "            'suggestCharts', [key], {});\n",
              "      } catch (error) {\n",
              "        console.error('Error during call to suggestCharts:', error);\n",
              "      }\n",
              "      quickchartButtonEl.classList.remove('colab-df-spinner');\n",
              "      quickchartButtonEl.classList.add('colab-df-quickchart-complete');\n",
              "    }\n",
              "    (() => {\n",
              "      let quickchartButtonEl =\n",
              "        document.querySelector('#df-0b130c5f-ed52-4849-a7c5-53ccf65b6797 button');\n",
              "      quickchartButtonEl.style.display =\n",
              "        google.colab.kernel.accessAllowed ? 'block' : 'none';\n",
              "    })();\n",
              "  </script>\n",
              "</div>\n",
              "    </div>\n",
              "  </div>\n"
            ]
          },
          "metadata": {},
          "execution_count": 11
        }
      ]
    },
    {
      "cell_type": "code",
      "source": [
        "# Areas with the highest sum in 2017\n",
        "area = data1.groupby('Area')['Y2017'].sum()\n",
        "sort1 = area.sort_values(ascending = False)\n",
        "sort1.head()"
      ],
      "metadata": {
        "colab": {
          "base_uri": "https://localhost:8080/"
        },
        "id": "v_mqjePDLnz0",
        "outputId": "9eec7da5-fef7-4001-95dc-6218119701b4"
      },
      "execution_count": 15,
      "outputs": [
        {
          "output_type": "execute_result",
          "data": {
            "text/plain": [
              "Area\n",
              "Nigeria         1483268.23\n",
              "Egypt            866379.92\n",
              "South Africa     517590.54\n",
              "Ethiopia         448683.76\n",
              "Morocco          388495.36\n",
              "Name: Y2017, dtype: float64"
            ]
          },
          "metadata": {},
          "execution_count": 15
        }
      ]
    },
    {
      "cell_type": "code",
      "source": [
        "# Total number of wine produced in 2015 and 2018\n",
        "\n",
        "wine_15 = data[data['Item'] == 'Wine']['Y2015'].sum()\n",
        "wine_15\n",
        "wine_18 = data[data['Item']=='Wine']['Y2018'].sum()\n",
        "wine_18\n",
        "print (f'The number of wine produced in 2015 is {wine_15}')\n",
        "print(f'The number of wine produced in 2018 is {wine_18}')"
      ],
      "metadata": {
        "id": "SDr8ugv4MSYu",
        "colab": {
          "base_uri": "https://localhost:8080/"
        },
        "outputId": "bcf39a21-e8ae-4d0d-a908-ef5fa1045e26"
      },
      "execution_count": 19,
      "outputs": [
        {
          "output_type": "stream",
          "name": "stdout",
          "text": [
            "The number of wine produced in 2015 is 4251.8099999999995\n",
            "The number of wine produced in 2018 is 4039.3199999999997\n"
          ]
        }
      ]
    },
    {
      "cell_type": "code",
      "source": [
        "# missing values in 2014\n",
        "m_14 = data['Y2014'].isna().sum()\n",
        "print(f'The sum of missing values in 2014 is {m_14}')\n",
        "\n",
        "total_values = len(data)\n",
        "percent_m = (m_14/total_values) * 100\n",
        "print(f'The percentage of missing values is {percent_m}%')"
      ],
      "metadata": {
        "id": "VKH6koP2Q2iW",
        "colab": {
          "base_uri": "https://localhost:8080/"
        },
        "outputId": "20c399e8-5efc-4255-bd39-321d07eae9d7"
      },
      "execution_count": 27,
      "outputs": [
        {
          "output_type": "stream",
          "name": "stdout",
          "text": [
            "The sum of missing values in 2014 is 1589\n",
            "The percentage of missing values is 2.6073544131401474%\n"
          ]
        }
      ]
    },
    {
      "cell_type": "code",
      "source": [
        "# total protein supply in madagascar in 2015\n",
        "protein_supply = ['Bovine Meat','Mutton & Goat Meat','Pigmeat','Poultry Meat']\n",
        "# others might include [,'Milk - Excluding Butter','Fish, Seafood','Freshwater Fish',\n",
        "                 # 'Demersal Fish','Pelagic Fish','Marine Fish, Other',,'Eggs','Meat']\n",
        "protein_data = data[data['Item'].isin(protein_supply)]\n",
        "protein_sum = protein_data.groupby('Area')['Y2015'].sum().reset_index()\n",
        "protein_sum_mdg = protein_sum[protein_sum['Area']=='Madagascar']\n",
        "protein_sum_mdg\n"
      ],
      "metadata": {
        "id": "psjsMPc3NNkp",
        "colab": {
          "base_uri": "https://localhost:8080/",
          "height": 81
        },
        "outputId": "7a8d033b-b9f7-4b56-e11d-5bcae1536726"
      },
      "execution_count": 21,
      "outputs": [
        {
          "output_type": "execute_result",
          "data": {
            "text/plain": [
              "          Area   Y2015\n",
              "23  Madagascar  1079.8"
            ],
            "text/html": [
              "\n",
              "  <div id=\"df-227a4a0e-adf9-44c3-bf8a-236d8399bcf2\" class=\"colab-df-container\">\n",
              "    <div>\n",
              "<style scoped>\n",
              "    .dataframe tbody tr th:only-of-type {\n",
              "        vertical-align: middle;\n",
              "    }\n",
              "\n",
              "    .dataframe tbody tr th {\n",
              "        vertical-align: top;\n",
              "    }\n",
              "\n",
              "    .dataframe thead th {\n",
              "        text-align: right;\n",
              "    }\n",
              "</style>\n",
              "<table border=\"1\" class=\"dataframe\">\n",
              "  <thead>\n",
              "    <tr style=\"text-align: right;\">\n",
              "      <th></th>\n",
              "      <th>Area</th>\n",
              "      <th>Y2015</th>\n",
              "    </tr>\n",
              "  </thead>\n",
              "  <tbody>\n",
              "    <tr>\n",
              "      <th>23</th>\n",
              "      <td>Madagascar</td>\n",
              "      <td>1079.8</td>\n",
              "    </tr>\n",
              "  </tbody>\n",
              "</table>\n",
              "</div>\n",
              "    <div class=\"colab-df-buttons\">\n",
              "\n",
              "  <div class=\"colab-df-container\">\n",
              "    <button class=\"colab-df-convert\" onclick=\"convertToInteractive('df-227a4a0e-adf9-44c3-bf8a-236d8399bcf2')\"\n",
              "            title=\"Convert this dataframe to an interactive table.\"\n",
              "            style=\"display:none;\">\n",
              "\n",
              "  <svg xmlns=\"http://www.w3.org/2000/svg\" height=\"24px\" viewBox=\"0 -960 960 960\">\n",
              "    <path d=\"M120-120v-720h720v720H120Zm60-500h600v-160H180v160Zm220 220h160v-160H400v160Zm0 220h160v-160H400v160ZM180-400h160v-160H180v160Zm440 0h160v-160H620v160ZM180-180h160v-160H180v160Zm440 0h160v-160H620v160Z\"/>\n",
              "  </svg>\n",
              "    </button>\n",
              "\n",
              "  <style>\n",
              "    .colab-df-container {\n",
              "      display:flex;\n",
              "      gap: 12px;\n",
              "    }\n",
              "\n",
              "    .colab-df-convert {\n",
              "      background-color: #E8F0FE;\n",
              "      border: none;\n",
              "      border-radius: 50%;\n",
              "      cursor: pointer;\n",
              "      display: none;\n",
              "      fill: #1967D2;\n",
              "      height: 32px;\n",
              "      padding: 0 0 0 0;\n",
              "      width: 32px;\n",
              "    }\n",
              "\n",
              "    .colab-df-convert:hover {\n",
              "      background-color: #E2EBFA;\n",
              "      box-shadow: 0px 1px 2px rgba(60, 64, 67, 0.3), 0px 1px 3px 1px rgba(60, 64, 67, 0.15);\n",
              "      fill: #174EA6;\n",
              "    }\n",
              "\n",
              "    .colab-df-buttons div {\n",
              "      margin-bottom: 4px;\n",
              "    }\n",
              "\n",
              "    [theme=dark] .colab-df-convert {\n",
              "      background-color: #3B4455;\n",
              "      fill: #D2E3FC;\n",
              "    }\n",
              "\n",
              "    [theme=dark] .colab-df-convert:hover {\n",
              "      background-color: #434B5C;\n",
              "      box-shadow: 0px 1px 3px 1px rgba(0, 0, 0, 0.15);\n",
              "      filter: drop-shadow(0px 1px 2px rgba(0, 0, 0, 0.3));\n",
              "      fill: #FFFFFF;\n",
              "    }\n",
              "  </style>\n",
              "\n",
              "    <script>\n",
              "      const buttonEl =\n",
              "        document.querySelector('#df-227a4a0e-adf9-44c3-bf8a-236d8399bcf2 button.colab-df-convert');\n",
              "      buttonEl.style.display =\n",
              "        google.colab.kernel.accessAllowed ? 'block' : 'none';\n",
              "\n",
              "      async function convertToInteractive(key) {\n",
              "        const element = document.querySelector('#df-227a4a0e-adf9-44c3-bf8a-236d8399bcf2');\n",
              "        const dataTable =\n",
              "          await google.colab.kernel.invokeFunction('convertToInteractive',\n",
              "                                                    [key], {});\n",
              "        if (!dataTable) return;\n",
              "\n",
              "        const docLinkHtml = 'Like what you see? Visit the ' +\n",
              "          '<a target=\"_blank\" href=https://colab.research.google.com/notebooks/data_table.ipynb>data table notebook</a>'\n",
              "          + ' to learn more about interactive tables.';\n",
              "        element.innerHTML = '';\n",
              "        dataTable['output_type'] = 'display_data';\n",
              "        await google.colab.output.renderOutput(dataTable, element);\n",
              "        const docLink = document.createElement('div');\n",
              "        docLink.innerHTML = docLinkHtml;\n",
              "        element.appendChild(docLink);\n",
              "      }\n",
              "    </script>\n",
              "  </div>\n",
              "\n",
              "    </div>\n",
              "  </div>\n"
            ]
          },
          "metadata": {},
          "execution_count": 21
        }
      ]
    },
    {
      "cell_type": "code",
      "source": [
        "# Sum of elements in 2017\n",
        "element_sum = data.groupby('Element')['Y2017'].sum().reset_index()\n",
        "element_sum\n",
        "total_sum = element_sum['Y2017'].sum()\n",
        "print(f'The sum of elements in 2017 is {total_sum}')"
      ],
      "metadata": {
        "colab": {
          "base_uri": "https://localhost:8080/"
        },
        "id": "SsTVGVgy8a7i",
        "outputId": "79bbfc37-ec7f-4c79-b085-3569bb0f443e"
      },
      "execution_count": 9,
      "outputs": [
        {
          "output_type": "stream",
          "name": "stdout",
          "text": [
            "The sum of elements in 2017 is 8375729.1899999995\n"
          ]
        }
      ]
    },
    {
      "cell_type": "code",
      "source": [
        "# year with the highest stock variation\n"
      ],
      "metadata": {
        "id": "oyIk7dGmG-rg"
      },
      "execution_count": 16,
      "outputs": []
    },
    {
      "cell_type": "code",
      "source": [
        "# Area with the 7th lowest sum in 2017\n",
        "data1 = data[['Y2017','Area']]\n",
        "data1\n",
        "lowest_sum = data1.groupby('Area')['Y2017'].sum().reset_index()\n",
        "sort2 = lowest_sum.sort_values(by = 'Y2017',ascending = True)\n",
        "sort2.head(7)\n",
        "low_s = sort2[sort2['Area']=='Guinea-Bissau']\n",
        "print(f'The area with the 7th lowest sum in 2017 is {low_s}')"
      ],
      "metadata": {
        "colab": {
          "base_uri": "https://localhost:8080/"
        },
        "id": "3O9UXZTftbxW",
        "outputId": "13613b48-c482-4021-a98a-48596652a742"
      },
      "execution_count": 25,
      "outputs": [
        {
          "output_type": "stream",
          "name": "stdout",
          "text": [
            "The area with the 7th lowest sum in 2017 is              Area     Y2017\n",
            "21  Guinea-Bissau  19102.77\n"
          ]
        }
      ]
    },
    {
      "cell_type": "code",
      "source": [
        "#\n",
        "\n",
        "corr1 = data['Element Code'].corr(data['Y2017'])\n",
        "corr2 = data['Element Code'].corr(data['Y2015'])\n",
        "corr3 = data['Element Code'].corr(data['Y2016'])\n",
        "corr4 = data['Element Code'].corr(data['Y2014'])\n",
        "\n",
        "print('corr1:', corr1)\n",
        "print('corr2:', corr2)\n",
        "print('corr3:', corr3)\n",
        "print('corr4:', corr4)\n",
        "print(f'The year with the least correlation with element code is 2017')"
      ],
      "metadata": {
        "colab": {
          "base_uri": "https://localhost:8080/"
        },
        "id": "x4h4F1TORgwD",
        "outputId": "c3b21020-16f3-44a5-809a-54aa0219c381"
      },
      "execution_count": 28,
      "outputs": [
        {
          "output_type": "stream",
          "name": "stdout",
          "text": [
            "corr1: 0.02425400776004575\n",
            "corr2: 0.023889199301639956\n",
            "corr3: 0.023443997584961424\n",
            "corr4: 0.024456819495221754\n",
            "The year with the least correlation with element code is 2017\n"
          ]
        }
      ]
    }
  ]
}